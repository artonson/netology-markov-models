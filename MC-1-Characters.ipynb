{
 "cells": [
  {
   "cell_type": "code",
   "execution_count": 1,
   "metadata": {},
   "outputs": [
    {
     "name": "stdout",
     "output_type": "stream",
     "text": [
      "Populating the interactive namespace from numpy and matplotlib\n"
     ]
    }
   ],
   "source": [
    "%pylab inline"
   ]
  },
  {
   "cell_type": "code",
   "execution_count": 80,
   "metadata": {
    "collapsed": true
   },
   "outputs": [],
   "source": [
    "import re\n",
    "from itertools import izip"
   ]
  },
  {
   "cell_type": "markdown",
   "metadata": {},
   "source": [
    "Оценим марковскую цепь, управляющую символами русского алфавита в книге \"Война и мир\""
   ]
  },
  {
   "cell_type": "code",
   "execution_count": 47,
   "metadata": {
    "collapsed": true
   },
   "outputs": [],
   "source": [
    "with open('data/book1.txt') as book:\n",
    "    data = book.read()\n",
    "data = data.decode('utf-8')"
   ]
  },
  {
   "cell_type": "code",
   "execution_count": 96,
   "metadata": {
    "collapsed": true
   },
   "outputs": [],
   "source": [
    "RUSSIAN = u'абвгдеёжзийклмнопрстуфхцчшщьыъэюя'"
   ]
  },
  {
   "cell_type": "code",
   "execution_count": 97,
   "metadata": {
    "collapsed": true
   },
   "outputs": [],
   "source": [
    "mc = dict.fromkeys(RUSSIAN, None)\n",
    "for c in RUSSIAN:\n",
    "    mc[c] = dict.fromkeys(RUSSIAN, 0)"
   ]
  },
  {
   "cell_type": "code",
   "execution_count": 98,
   "metadata": {},
   "outputs": [
    {
     "name": "stdout",
     "output_type": "stream",
     "text": [
      "Лев Николаевич Толстой\r\n",
      "Война и мир. Книга 1\r\n",
      "\r\n",
      "Война и мир – 1\r\n",
      "\r\n",
      " \r\n",
      " http://www.lib.ru\r\n",
      "\r\n",
      "Аннотация \r\n",
      "\r\n",
      "Роман Льва Толстого «Война и мир» лежит в основании величественного здания русской классической литературы. С непревзойденным мастерством Толстой воссоздал великую духом Россию – образы этой «книги на все времена» и сейчас пленяют свежестью чувств и щедростью души, искренностью страстей, силой и чистотой убеждений.\r\n",
      "В книгу вошли первый и второй тома романа.\r\n",
      "\r\n",
      "Лев Николаевич Толстой\r\n",
      "ВОЙНА И МИР\r\n",
      "\r\n",
      "Том 1\r\n",
      "\r\n",
      "ЧАСТЬ ПЕРВАЯ\r\n",
      "\r\n",
      "\r\n",
      "I\r\n",
      "\r\n",
      "– Еh bien, mon prince. Genes et Lucques ne sont plus que des apanages, des поместья, de la famille Buonaparte. Non, je vous previens, que si vous ne me dites pas, que nous avons la guerre, si vous vous permettez encore de pallier toutes les infamies, toutes les atrocites de cet Antichrist (ma parole, j'y crois) – je ne vous connais plus, vous n'etes plus mon ami, vous n'etes plus мой верный раб, comme vous dites. [Ну, что, князь, Генуа и Лукка стали не бо\n"
     ]
    }
   ],
   "source": [
    "print data[:1000]"
   ]
  },
  {
   "cell_type": "code",
   "execution_count": 99,
   "metadata": {
    "collapsed": true
   },
   "outputs": [],
   "source": [
    "russian_only = ''.join(re.findall(U'[А-Яа-яё]+', data)).lower()"
   ]
  },
  {
   "cell_type": "code",
   "execution_count": 100,
   "metadata": {},
   "outputs": [
    {
     "name": "stdout",
     "output_type": "stream",
     "text": [
      "левниколаевичтолстойвойнаимиркнигавойнаимираннотацияроманльватолстоговойнаимирлежитвоснованиивеличественногозданиярусскойклассическойлитературыснепревзойденныммастерствомтолстойвоссоздалвеликуюдухомроссиюобразыэтойкнигинавсевременаисейчаспленяютсвежестьючувствищедростьюдушиискренностьюстрастейсилойичистотойубежденийвкнигувошлипервыйивторойтомароманалевниколаевичтолстойвойнаимиртомчастьперваяепоместьямойверныйрабнучтокнязьгенуаилуккасталинебольшекакпоместьямифамилиибонапартенетяваспредупреждаюесливымненескажетечтоунасвойнаесливыещепозволитесебезащищатьвсегадостивсеужасыэтогоантихристаправояверючтоонантихристявасбольшенезнаювыужнедругмойвыужнемойверныйрабкаквыговоритенуздравствуйтездравствуйтеявижучтояваспугаюсадитесьирассказывайтетакговорилавиюлегодаизвестнаяаннапавловнашерерфрейлинаиприближеннаяимператрицымариифеодоровнывстречаяважногоичиновногокнязявасилияпервогоприехавшегонаеевечераннапавловнакашляланесколькоднейунеебылгриппкаконаговорилагриппбылтогдановоесловоупотреблявшеесятолькоре\n"
     ]
    }
   ],
   "source": [
    "print russian_only[:1000]"
   ]
  },
  {
   "cell_type": "code",
   "execution_count": 101,
   "metadata": {
    "collapsed": true
   },
   "outputs": [],
   "source": [
    "for cp, cn in izip(russian_only[:-1], russian_only[1:]):\n",
    "    mc[cp][cn] += 1"
   ]
  },
  {
   "cell_type": "code",
   "execution_count": 120,
   "metadata": {
    "collapsed": true
   },
   "outputs": [],
   "source": [
    "for cp, count_by_cn in mc.iteritems():\n",
    "    norm = sum(count_by_cn.values())\n",
    "    mc[cp] = {cn: float(count) / float(norm) for cn, count in count_by_cn.iteritems()}"
   ]
  },
  {
   "cell_type": "code",
   "execution_count": 125,
   "metadata": {
    "collapsed": true
   },
   "outputs": [],
   "source": [
    "mc_matrix = np.zeros((33, 33))\n",
    "for cp in RUSSIAN:\n",
    "    for cn in RUSSIAN:\n",
    "        mc_matrix[RUSSIAN.index(cp)][RUSSIAN.index(cn)] = mc[cp][cn]"
   ]
  },
  {
   "cell_type": "code",
   "execution_count": 129,
   "metadata": {},
   "outputs": [
    {
     "name": "stderr",
     "output_type": "stream",
     "text": [
      "/usr/local/lib/python2.7/site-packages/ipykernel_launcher.py:2: RuntimeWarning: divide by zero encountered in log\n",
      "  \n"
     ]
    },
    {
     "data": {
      "text/plain": [
       "<matplotlib.image.AxesImage at 0x113f73250>"
      ]
     },
     "execution_count": 129,
     "metadata": {},
     "output_type": "execute_result"
    },
    {
     "data": {
      "image/png": "[encoded data removed]",
      "text/plain": [
       "<matplotlib.figure.Figure at 0x113ef0650>"
      ]
     },
     "metadata": {},
     "output_type": "display_data"
    }
   ],
   "source": [
    "figure(figsize=(6, 6))\n",
    "plt.imshow(np.log(mc_matrix), interpolation='nearest')"
   ]
  },
  {
   "cell_type": "code",
   "execution_count": 131,
   "metadata": {},
   "outputs": [
    {
     "name": "stdout",
     "output_type": "stream",
     "text": [
      "0.00963126999192\n"
     ]
    }
   ],
   "source": [
    "print mc[u'п'][u'ы']"
   ]
  },
  {
   "cell_type": "code",
   "execution_count": 124,
   "metadata": {},
   "outputs": [
    {
     "data": {
      "text/plain": [
       "<Container object of 33 artists>"
      ]
     },
     "execution_count": 124,
     "metadata": {},
     "output_type": "execute_result"
    },
    {
     "data": {
      "image/png": "[encoded data removed]",
      "text/plain": [
       "<matplotlib.figure.Figure at 0x111d58390>"
      ]
     },
     "metadata": {},
     "output_type": "display_data"
    }
   ],
   "source": [
    "plt.bar(range(33), mc[u'я'].values())"
   ]
  },
  {
   "cell_type": "markdown",
   "metadata": {},
   "source": [
    "Подсчитаем вероятности наблюдать некоторые строки."
   ]
  },
  {
   "cell_type": "code",
   "execution_count": 138,
   "metadata": {},
   "outputs": [
    {
     "name": "stdout",
     "output_type": "stream",
     "text": [
      "2.0153998813e-05\n"
     ]
    }
   ],
   "source": [
    "s = u'мама'\n",
    "proba = 1. / len(RUSSIAN)\n",
    "for cp, cn in izip(s[:-1], s[1:]):\n",
    "    proba *= mc[cp][cn]\n",
    "print proba"
   ]
  },
  {
   "cell_type": "code",
   "execution_count": 139,
   "metadata": {},
   "outputs": [
    {
     "name": "stdout",
     "output_type": "stream",
     "text": [
      "7.12135080638e-22\n"
     ]
    }
   ],
   "source": [
    "s = u'константинопольский'\n",
    "proba = 1. / len(RUSSIAN)\n",
    "for cp, cn in izip(s[:-1], s[1:]):\n",
    "    proba *= mc[cp][cn]\n",
    "print proba"
   ]
  },
  {
   "cell_type": "code",
   "execution_count": 140,
   "metadata": {},
   "outputs": [
    {
     "name": "stdout",
     "output_type": "stream",
     "text": [
      "2.32367702285e-23\n"
     ]
    }
   ],
   "source": [
    "s = u'мамамамамамамамамама'\n",
    "proba = 1. / len(RUSSIAN)\n",
    "for cp, cn in izip(s[:-1], s[1:]):\n",
    "    proba *= mc[cp][cn]\n",
    "print proba"
   ]
  },
  {
   "cell_type": "markdown",
   "metadata": {},
   "source": [
    "Подсчитаем вероятности наблюдать строки с заданными началом и концом."
   ]
  },
  {
   "cell_type": "code",
   "execution_count": 142,
   "metadata": {},
   "outputs": [
    {
     "name": "stdout",
     "output_type": "stream",
     "text": [
      "хай 4.38012629344e-05\n",
      "хвй 3.23286414874e-08\n",
      "хей 1.32206754118e-05\n",
      "хзй 1.39947943493e-08\n",
      "хий 3.92959699592e-05\n",
      "хйй 2.40654985476e-10\n",
      "хкй 2.20844273506e-08\n",
      "хлй 3.10674088228e-08\n",
      "хмй 2.17792583355e-08\n",
      "хой 0.000395888720768\n",
      "хрй 1.45905654848e-08\n",
      "хсй 2.74295252423e-08\n",
      "хтй 1.48074842563e-08\n",
      "хуй 2.94834300926e-06\n",
      "ххй 6.76195608092e-09\n",
      "хэй 5.89171184121e-07\n",
      "хяй 1.58134181297e-07\n"
     ]
    }
   ],
   "source": [
    "start = u'х'\n",
    "end = u'й'\n",
    "length = 3\n",
    "prior = 1. / len(RUSSIAN)\n",
    "for c in RUSSIAN:\n",
    "    proba = prior * mc[start][c] * mc[c][end]\n",
    "    if proba > 0:\n",
    "        print ''.join([start, c, end]), proba"
   ]
  },
  {
   "cell_type": "markdown",
   "metadata": {},
   "source": [
    "Генерирование выборок из марковской цепи."
   ]
  },
  {
   "cell_type": "code",
   "execution_count": 156,
   "metadata": {},
   "outputs": [],
   "source": [
    "s = []\n",
    "start = np.random.choice(list(RUSSIAN))\n",
    "s.append(start)\n",
    "length = 10\n",
    "for i in xrange(length):\n",
    "    index = RUSSIAN.index(s[i])\n",
    "    next_char = np.random.choice(list(RUSSIAN), p=mc_matrix[index])\n",
    "    s.append(next_char)"
   ]
  },
  {
   "cell_type": "code",
   "execution_count": 157,
   "metadata": {},
   "outputs": [
    {
     "name": "stdout",
     "output_type": "stream",
     "text": [
      "цобовсисовс\n"
     ]
    }
   ],
   "source": [
    "print ''.join(s)"
   ]
  },
  {
   "cell_type": "code",
   "execution_count": null,
   "metadata": {
    "collapsed": true
   },
   "outputs": [],
   "source": []
  }
 ],
 "metadata": {
  "kernelspec": {
   "display_name": "Python 2",
   "language": "python",
   "name": "python2"
  },
  "language_info": {
   "codemirror_mode": {
    "name": "ipython",
    "version": 2
   },
   "file_extension": ".py",
   "mimetype": "text/x-python",
   "name": "python",
   "nbconvert_exporter": "python",
   "pygments_lexer": "ipython2",
   "version": "2.7.12"
  }
 },
 "nbformat": 4,
 "nbformat_minor": 2
}
