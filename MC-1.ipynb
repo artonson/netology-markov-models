{
 "cells": [
  {
   "cell_type": "markdown",
   "metadata": {
    "slideshow": {
     "slide_type": "slide"
    }
   },
   "source": [
    "\n",
    "# Марковские цепи\n",
    "\n",
    "Алексей Артемов"
   ]
  },
  {
   "cell_type": "markdown",
   "metadata": {
    "slideshow": {
     "slide_type": "slide"
    }
   },
   "source": [
    "## $e^0$. Что такое марковская цепь?"
   ]
  },
  {
   "cell_type": "markdown",
   "metadata": {
    "slideshow": {
     "slide_type": "subslide"
    }
   },
   "source": [
    "Пусть $E$ - некоторое дискретное (конечное или счётное) множество, \n",
    "которое называют _пространством состояний_. \n",
    "\n",
    "**Примеры:** \n",
    " * $E_1 = \\{\\text{солнечно}, \\text{пасмурно}, \\text{дождь}, \\text{снег}\\}$ - пространство погодных условий\n",
    " * $E_2 = \\{\\text{а}, \\text{б}, \\ldots, \\text{я}\\}$ - пространство кириллических букв \n",
    " * $E_3 = \\mathbb{N} = \\{0, 1, \\ldots, \\}$ - пространство целых чисел (число студентов в классе)"
   ]
  },
  {
   "cell_type": "markdown",
   "metadata": {
    "collapsed": true,
    "slideshow": {
     "slide_type": "subslide"
    }
   },
   "source": [
    "Если система находится в \n",
    "состоянии $i \\in E$ в момент времени $n$, то в момент времени $n + 1$ она \n",
    "может перейти в состояние $j \\in E$ с _переходной вероятностью_\n",
    "$p_{ij}$. \n",
    "\n",
    "**Примеры:**\n",
    " * Для кириллицы $p_{\\text{п},\\text{р}} = 0.278, \\quad p_{\\text{п},\\text{ы}} = 0.009$\n",
    " * Число студентов в классе может изменяться лишь на один: \n",
    " $p_{k,k + 1} = p, \\quad p_{k,k + 1} = q, \\quad p_{k,k} = 1 - p - q$"
   ]
  },
  {
   "cell_type": "markdown",
   "metadata": {
    "slideshow": {
     "slide_type": "subslide"
    }
   },
   "source": [
    "Свойства переходной вероятности:\n",
    "\n",
    "$$\n",
    "\t\\forall i, j \\in E \\quad p_{ij} \\geq 0 \\quad\\text{ и } \n",
    "    \\quad\\forall i \\in E \\quad \\sum_{j \\in \n",
    "\tE} p_{ij} = 1.\n",
    "$$\n",
    "\n",
    "Переходные вероятности образуют _матрицу переходных вероятностей_ \n",
    "$P = (p_{ij})_{i, j \\in E}$."
   ]
  },
  {
   "cell_type": "markdown",
   "metadata": {
    "slideshow": {
     "slide_type": "subslide"
    }
   },
   "source": [
    "\n",
    "**Марковская цепь** с пространством состояний $E$ и матрицей \n",
    "переходных вероятностей $P$ - это случайный процесс с дискретным \n",
    "временем $X = (X_{n})_{n \\in \\mathbb{N}}$, $X_{n} \\in E$, для которого\n",
    "\n",
    " * известны начальные распределения $\\alpha_{i} \\equiv \\Pr({X_{0} = i})$,\n",
    " * верно _марковское свойство_: для любого натурального $n$ и \n",
    "    любых $i_{0}, i_{1}, \\ldots, i_{n - 1}, i, j$\n",
    "    \n",
    "    $$\n",
    "    \\Pr({X_{n + 1} = j | X_{n} = i}) = \\\\\n",
    "    \\Pr({X_{n + 1} = j | X_{0} = i_{0}, \\ldots, X_{n - 1} = i_{n - 1}, X_{n} = i}) = p_{ij},\n",
    "    $$\n",
    "    \n",
    "    если условные вероятности хорошо определены, то есть $\\Pr({X_{0} = \n",
    "    i_{0}, \\dots, X_{n} = i}) > 0$.\n",
    "\n",
    "Неформально говоря, марковское свойство означает, что то, как система будет \n",
    "развиваться в текущий момент, не зависит от того, что было в прошлом и зависит \n",
    "только от настоящего."
   ]
  },
  {
   "cell_type": "markdown",
   "metadata": {
    "slideshow": {
     "slide_type": "slide"
    }
   },
   "source": [
    "## $\\log_4 16$. Оценка матрицы переходных вероятностей"
   ]
  },
  {
   "cell_type": "markdown",
   "metadata": {
    "slideshow": {
     "slide_type": "subslide"
    }
   },
   "source": [
    "Дана последовательность наблюдений\n",
    "\n",
    "$$\n",
    "X_1, X_2, \\ldots, X_N, \\qquad X_i \\in E.\n",
    "$$\n",
    "\n",
    "Как подсчитать матрицу переходных вероятностей $p_{ij} = \\Pr({X_{n + 1} = j | X_{n} = i})$?"
   ]
  },
  {
   "cell_type": "markdown",
   "metadata": {
    "slideshow": {
     "slide_type": "fragment"
    }
   },
   "source": [
    "**Закон больших чисел:** частота некоторого события в серии независимых испытаний приближается (и остается близкой) к его вероятности:\n",
    "\n",
    "$$\n",
    "\\nu_n(A) \\to \\Pr(A) (n \\to \\infty), \\quad \\nu_n(A) = \\frac {n_A} {n}\n",
    "$$"
   ]
  },
  {
   "cell_type": "markdown",
   "metadata": {
    "slideshow": {
     "slide_type": "subslide"
    }
   },
   "source": [
    "$$\n",
    "p_{ij} = \\Pr({X_{n + 1} = j | X_{n} = i}) \\approx \\frac 1 N \\sum\\limits_{n = 1} I(X_{n + 1} = j | X_{n} = i)\n",
    "$$\n",
    "\n",
    "**Пример:** оценка марковской цепи, управляющей буквами русского алфавита"
   ]
  },
  {
   "cell_type": "code",
   "execution_count": 18,
   "metadata": {
    "collapsed": true,
    "slideshow": {
     "slide_type": "skip"
    }
   },
   "outputs": [],
   "source": [
    "with open('data/book1.txt') as book:\n",
    "    data = book.read()\n",
    "data = data.decode('utf-8')\n",
    "import re\n",
    "from itertools import izip\n",
    "text = ''.join(re.findall(U'[А-Яа-яё]+', data)).lower()"
   ]
  },
  {
   "cell_type": "code",
   "execution_count": 19,
   "metadata": {
    "slideshow": {
     "slide_type": "fragment"
    }
   },
   "outputs": [],
   "source": [
    "RUSSIAN = u'абвгдеёжзийклмнопрстуфхцчшщьыъэюя'\n",
    "\n",
    "# Создадим массив размера n x n, где n = 33 - число символов русского алфавита\n",
    "mc = dict.fromkeys(RUSSIAN, None)\n",
    "for c in RUSSIAN:\n",
    "    mc[c] = dict.fromkeys(RUSSIAN, 0)\n",
    "\n",
    "# Подсчитаем число вхождений каждого символа после каждого\n",
    "for cp, cn in zip(text[:-1], text[1:]):\n",
    "    mc[cp][cn] += 1\n",
    "\n",
    "# Отнормируем на единицу\n",
    "for cp, count_by_cn in mc.iteritems():\n",
    "    norm = sum(count_by_cn.values())\n",
    "    mc[cp] = {cn: float(count) / max(1, float(norm))\n",
    "              for cn, count in count_by_cn.iteritems()}"
   ]
  },
  {
   "cell_type": "markdown",
   "metadata": {
    "slideshow": {
     "slide_type": "subslide"
    }
   },
   "source": [
    "**Практика:** оценивание вероятностей с помощью марковской цепи."
   ]
  },
  {
   "cell_type": "markdown",
   "metadata": {
    "slideshow": {
     "slide_type": "slide"
    }
   },
   "source": [
    "## $\\frac {27} {9}$. Траектории марковской цепи"
   ]
  },
  {
   "cell_type": "markdown",
   "metadata": {
    "collapsed": true,
    "slideshow": {
     "slide_type": "subslide"
    }
   },
   "source": [
    "Теперь вопрос: допустим, что у нас есть какая-то траектория (последовательность \n",
    "состояний). Какова её вероятность? Ответ на этот вопрос даст одна простая \n",
    "теорема.\n",
    "\n",
    "**Теорема о состояниях марковской цепи**\n",
    "\n",
    "Для любого натурального $n$ и любых $i_{0}, i_{1}, \\dots, i_{n - 1}, i, j$\n",
    "\n",
    "$$\n",
    "    \\Pr({X_{0} = i_{0}, X_{1} = i_{1}, \\dots, X_{n} = i_{n}}) = \n",
    "    \\alpha_{i_{0}} p_{i_{0}i_{1}} \\ldots p_{i_{n - 1}i_{n}}.\n",
    "$$"
   ]
  },
  {
   "cell_type": "markdown",
   "metadata": {
    "slideshow": {
     "slide_type": "fragment"
    }
   },
   "source": [
    "**Пример:** Пусть вероятность начального состояния цепи для русских букв равна $\\frac {1} {33}$.\n",
    "\n",
    "Чему равна вероятность наблюдать строку \"мама\"? А \"константинопольский\"? А \"мамамамамамамамамама\"?"
   ]
  },
  {
   "cell_type": "code",
   "execution_count": 7,
   "metadata": {
    "slideshow": {
     "slide_type": "fragment"
    }
   },
   "outputs": [
    {
     "name": "stdout",
     "output_type": "stream",
     "text": [
      "1.22856902902e-07\n"
     ]
    }
   ],
   "source": [
    "s = u'константинопольский'\n",
    "proba = 1. / 3.\n",
    "for cp, cn in zip(s[:-1], s[1:]):\n",
    "    proba *= mc[cp][cn]\n",
    "print proba"
   ]
  },
  {
   "cell_type": "markdown",
   "metadata": {
    "slideshow": {
     "slide_type": "subslide"
    }
   },
   "source": [
    "**Следствие.** Для любого натурального $n$ и любого $i_{n} \\in E$\n",
    "\n",
    "$$\n",
    "    \\Pr({X_{n} = i_{n}}) = \\sum_{i_{0}, \\ldots, i_{n - 1} \\in E} \n",
    "    \\alpha_{i_{0}} p_{i_{0}i_{1}} \\ldots p_{i_{n - 1}i_{n}}.\n",
    "$$\n",
    "\n",
    "**Вопрос:** как подсчитать вероятность встретить в 10-буквенном слове букву \"й\"?"
   ]
  },
  {
   "cell_type": "markdown",
   "metadata": {
    "slideshow": {
     "slide_type": "subslide"
    }
   },
   "source": [
    "Но обычно нас не интересует полный путь, а лишь начало и конец. Поэтому вводят \n",
    "вероятность перейти из состояния $i$ в состояние $j$ за $n$ шагов:\n",
    "\n",
    "$$\n",
    "\tp_{ij}^{(n)} = \\Pr({X_{n} = j | X_{0} = i})\n",
    "$$\n",
    "\n",
    "Чему равна эта вероятность?"
   ]
  },
  {
   "cell_type": "markdown",
   "metadata": {
    "slideshow": {
     "slide_type": "subslide"
    }
   },
   "source": [
    "Воспользуемся теоремой о состояниях:\n",
    "\n",
    "$$\n",
    "\t\\Pr({X_{n} = j | X_{0} = i})\n",
    "    = \\frac{\\Pr({X_{n} = j, X_{0} = i})}\n",
    "        {\\Pr({X_{0} = i})} \n",
    "    = \\sum_{i_{1}, \\ldots, i_{n - 1} \\in E} \n",
    "        \\frac{\\Pr({X_{0} = i, X_{1} = i_{1}, \\dots, X_{n - 1} = i_{n - 1}, X_{n} - j})}\n",
    "            {\\Pr({X_{0} = i})}\n",
    "    = \\sum_{i_{1}, \\ldots, i_{n - 1} \\in E} p_{ii_{1}} \\ldots p_{i_{n - 1}j}.\n",
    "$$"
   ]
  },
  {
   "cell_type": "markdown",
   "metadata": {
    "slideshow": {
     "slide_type": "subslide"
    }
   },
   "source": [
    "Если мы посмотрим на случай $n = 2$, то полученное выражение очень похоже на \n",
    "скалярное произведение строк матрицы переходной вероятности. Оказывается, что \n",
    "это не так уж и далеко от истины.\n",
    "\n",
    "**Теорема.** Пусть $P^{(n)} = (p_{ij}^{(n)})_{i,j \\in E}$. \n",
    "    Тогда $P^{(n)} = P \\cdot P \\cdot \\ldots \\cdot P = P^{n}$."
   ]
  },
  {
   "cell_type": "markdown",
   "metadata": {
    "slideshow": {
     "slide_type": "subslide"
    }
   },
   "source": [
    "**Вопрос:** как подсчитать вероятность, что слово из трех букв начинается на букву \"х\" и заканчивается на букву \"й\"?"
   ]
  },
  {
   "cell_type": "code",
   "execution_count": 20,
   "metadata": {
    "slideshow": {
     "slide_type": "fragment"
    }
   },
   "outputs": [
    {
     "name": "stdout",
     "output_type": "stream",
     "text": [
      "хай 4.38012629344e-05\n",
      "хвй 3.23286414874e-08\n",
      "хей 1.32206754118e-05\n",
      "хзй 1.39947943493e-08\n",
      "хий 3.92959699592e-05\n",
      "хйй 2.40654985476e-10\n",
      "хкй 2.20844273506e-08\n",
      "хлй 3.10674088228e-08\n",
      "хмй 2.17792583355e-08\n",
      "хой 0.000395888720768\n",
      "хрй 1.45905654848e-08\n",
      "хсй 2.74295252423e-08\n",
      "хтй 1.48074842563e-08\n",
      "хуй 2.94834300926e-06\n",
      "ххй 6.76195608092e-09\n",
      "хэй 5.89171184121e-07\n",
      "хяй 1.58134181297e-07\n"
     ]
    }
   ],
   "source": [
    "start = u'х'\n",
    "end = u'й'\n",
    "prior = 1. / len(RUSSIAN)\n",
    "for c in RUSSIAN:\n",
    "    proba = prior * mc[start][c] * mc[c][end]\n",
    "    if proba > 0:\n",
    "        print ''.join([start, c, end]), proba"
   ]
  },
  {
   "cell_type": "markdown",
   "metadata": {
    "slideshow": {
     "slide_type": "subslide"
    }
   },
   "source": [
    "Это работает не всегда. Почему же? Потому что никто не обещал, что переходная вероятность не зависит от шага. Если она действительно не зависит, то говорят, что марковская цепь _однородна_."
   ]
  },
  {
   "cell_type": "markdown",
   "metadata": {
    "slideshow": {
     "slide_type": "slide"
    }
   },
   "source": [
    "## $2^2$. Генерирование выборок из марковской цепи"
   ]
  },
  {
   "cell_type": "markdown",
   "metadata": {
    "slideshow": {
     "slide_type": "subslide"
    }
   },
   "source": [
    "Как создать реализацию длины $N$ из марковской цепи?\n",
    "\n",
    " 1. Сгенерировать начальное состояние согласно распределению $\\alpha_{i} \\equiv \\Pr({X_{0} = i})$, положить $n \\leftarrow 0$.\n",
    " 2. Пока $n < N$, повторять:\n",
    "   * Имея контекст $X_{n}$, сгенерировать состояние $X_{n+1}$ из распределения $\\Pr({X_{n+1} | X_{n}})$\n",
    "   * Положить $n \\leftarrow n + 1$"
   ]
  },
  {
   "cell_type": "code",
   "execution_count": 21,
   "metadata": {
    "slideshow": {
     "slide_type": "subslide"
    }
   },
   "outputs": [
    {
     "name": "stdout",
     "output_type": "stream",
     "text": [
      "шехашиожико\n"
     ]
    }
   ],
   "source": [
    "import numpy as np\n",
    "\n",
    "mc_matrix = np.zeros((33, 33))\n",
    "for cp in RUSSIAN:\n",
    "    for cn in RUSSIAN:\n",
    "        mc_matrix[RUSSIAN.index(cp)][RUSSIAN.index(cn)] = mc[cp][cn]\n",
    "\n",
    "s = []\n",
    "start = np.random.choice(list(RUSSIAN))\n",
    "s.append(start)\n",
    "length = 10\n",
    "for i in xrange(length):\n",
    "    index = RUSSIAN.index(s[i])\n",
    "    next_char = np.random.choice(list(RUSSIAN), p=mc_matrix[index])\n",
    "    s.append(next_char)\n",
    "\n",
    "print ''.join(s)"
   ]
  },
  {
   "cell_type": "markdown",
   "metadata": {
    "slideshow": {
     "slide_type": "fragment"
    }
   },
   "source": [
    "**Практика:** генерирование реализаций марковской цепи."
   ]
  }
 ],
 "metadata": {
  "celltoolbar": "Slideshow",
  "kernelspec": {
   "display_name": "Python 2",
   "language": "python",
   "name": "python2"
  },
  "language_info": {
   "codemirror_mode": {
    "name": "ipython",
    "version": 2
   },
   "file_extension": ".py",
   "mimetype": "text/x-python",
   "name": "python",
   "nbconvert_exporter": "python",
   "pygments_lexer": "ipython2",
   "version": "2.7.12"
  }
 },
 "nbformat": 4,
 "nbformat_minor": 2
}
